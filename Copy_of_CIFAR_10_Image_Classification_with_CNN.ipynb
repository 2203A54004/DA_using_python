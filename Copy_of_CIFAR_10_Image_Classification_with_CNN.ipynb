{
  "metadata": {
    "kernelspec": {
      "language": "python",
      "display_name": "Python 3",
      "name": "python3"
    },
    "language_info": {
      "pygments_lexer": "ipython3",
      "nbconvert_exporter": "python",
      "version": "3.6.4",
      "file_extension": ".py",
      "codemirror_mode": {
        "name": "ipython",
        "version": 3
      },
      "name": "python",
      "mimetype": "text/x-python"
    },
    "colab": {
      "provenance": []
    }
  },
  "nbformat_minor": 0,
  "nbformat": 4,
  "cells": [
    {
      "cell_type": "markdown",
      "source": [
        "<img src=\"https://github.com/FarzadNekouee/Keras-CIFAR10-CNN-Model/blob/master/image.png?raw=true\" width=\"1800\">"
      ],
      "metadata": {
        "papermill": {
          "duration": 0.013638,
          "end_time": "2023-08-18T05:24:44.088208",
          "exception": false,
          "start_time": "2023-08-18T05:24:44.07457",
          "status": "completed"
        },
        "tags": [],
        "id": "fkgxu7-GvkMw"
      }
    },
    {
      "cell_type": "markdown",
      "source": [
        "<div style=\"border-radius:12px; padding: 20px; background-color: #e2c9ff; font-size:125%; text-align:left\">\n",
        "\n",
        "<h2 align=\"left\"><font color=#8502d1>CIFAR-10 Dataset</font></h2>\n",
        "\n",
        "The __CIFAR-10__ dataset is a well-established benchmark in the field of machine learning, specifically designed for __image classification__. Comprising __60,000 color images__, each of __size 32x32 pixels__, the dataset is segmented into __10 distinct classes__, each representing a different object or creature. The classes encompass the following:\n",
        "\n",
        "- Airplane\n",
        "- Automobile\n",
        "- Bird\n",
        "- Cat\n",
        "- Deer\n",
        "- Dog\n",
        "- Frog\n",
        "- Horse\n",
        "- Ship\n",
        "- Truck\n",
        "\n",
        "Each class contains an equal distribution, boasting 6,000 images. From the total image count, 50,000 are designated for training while the remaining 10,000 are set aside for testing."
      ],
      "metadata": {
        "papermill": {
          "duration": 0.012214,
          "end_time": "2023-08-18T05:24:44.112831",
          "exception": false,
          "start_time": "2023-08-18T05:24:44.100617",
          "status": "completed"
        },
        "tags": [],
        "id": "HBIfTtDYvkMx"
      }
    },
    {
      "cell_type": "markdown",
      "source": [
        "<div style=\"border-radius:12px; padding: 20px; background-color: #e2c9ff; font-size:125%; text-align:left\">\n",
        "\n",
        "<h2 align=\"left\"><font color=#8502d1>Objectives</font></h2>\n",
        "    \n",
        "* __Data Insights and Exploration__\n",
        "   - Familiarize with the CIFAR-10 dataset.\n",
        "   - Visually inspect sample images from various classes to understand data distribution.\n",
        "\n",
        "    \n",
        "* __Comprehensive Data Preprocessing__\n",
        "   - Normalize pixel values of the images to enhance model training efficiency.\n",
        "   - Convert image labels into a one-hot encoded format suitable for classification tasks.\n",
        "   - Implement data augmentation techniques to increase the dataset's variability and improve model generalization.\n",
        "\n",
        "    \n",
        "* __Architectural Design using Keras__\n",
        "   - Design a Convolutional Neural Network (CNN) tailored for the CIFAR-10 dataset using the __Keras__ framework.\n",
        "   - Incorporate mechanisms such as dropouts and regularizations to counteract overfitting.\n",
        "\n",
        "    \n",
        "* __Model Training Process__\n",
        "   - Train the CNN using the prepared dataset.\n",
        "   - Utilize callbacks to adjust the learning rate dynamically and halt the training early if no improvements are detected, restoring the best model weights from the training.\n",
        "\n",
        "    \n",
        "* __Learning Analysis__\n",
        "   - Visualize the model's learning curves, observing both training and validation performance metrics over epochs.\n",
        "\n",
        "    \n",
        "* __Model Evaluation__\n",
        "   - Assess the trained model's accuracy and loss on the unseen test data to determine its robustness.\n",
        "\n",
        "    \n",
        "* __Real-world Generalization Check__\n",
        "   - Evaluate the model's predictive capability using an image not part of the CIFAR-10 dataset to gauge its real-world applicability.\n"
      ],
      "metadata": {
        "papermill": {
          "duration": 0.012202,
          "end_time": "2023-08-18T05:24:44.138078",
          "exception": false,
          "start_time": "2023-08-18T05:24:44.125876",
          "status": "completed"
        },
        "tags": [],
        "id": "H5HnuwOAvkMy"
      }
    },
    {
      "cell_type": "markdown",
      "source": [
        "<a id=\"contents_tabel\"></a>    \n",
        "<div style=\"border-radius:10px; padding: 15px; background-color: #e2c9ff; font-size:125%; text-align:left\">\n",
        "\n",
        "<h2 align=\"left\"><font color=#8502d1>Table of Contents</font></h2>\n",
        "    \n",
        "* [Step 1 | Import Necessary Libraries](#import)\n",
        "* [Step 2 | Data Preparation and Exploration](#exploration)\n",
        "* [Step 3 | Data Preprocessing](#preprocessing)\n",
        "    - [Step 3.1 | Normalization of Image Data](#normalization)\n",
        "    - [Step 3.2 | One-Hot Encoding of Labels](#onehot)\n",
        "    - [Step 3.3 | Data Augmentation](#augmentation)\n",
        "* [Step 4 | Define CNN Model Architecture](#cnn)\n",
        "* [Step 5 | Training the CNN Model](#train)\n",
        "* [Step 6 | Visualizing the Learning Curves](#curves)\n",
        "* [Step 7 | Evaluating the Optimal Model on Test Data](#evaluation)\n",
        "* [Step 8 | Performance on an Out-of-Dataset Image](#image)"
      ],
      "metadata": {
        "papermill": {
          "duration": 0.013849,
          "end_time": "2023-08-18T05:24:44.164119",
          "exception": false,
          "start_time": "2023-08-18T05:24:44.15027",
          "status": "completed"
        },
        "tags": [],
        "id": "zm3-B5MqvkMz"
      }
    },
    {
      "cell_type": "markdown",
      "source": [
        "<a id=\"import\"></a>\n",
        "# <p style=\"background-color:#8502d1; font-family:calibri; color:white; font-size:150%; text-align:center; border-radius:15px 50px;\">Step 1 | Import Necessary Libraries</p>\n",
        "\n",
        "⬆️ [Tabel of Contents](#contents_tabel)"
      ],
      "metadata": {
        "papermill": {
          "duration": 0.012585,
          "end_time": "2023-08-18T05:24:44.188967",
          "exception": false,
          "start_time": "2023-08-18T05:24:44.176382",
          "status": "completed"
        },
        "tags": [],
        "id": "BAIdxLMevkMz"
      }
    },
    {
      "cell_type": "markdown",
      "source": [
        "<div style=\"border-radius:12px; padding: 20px; background-color: #e2c9ff; font-size:120%; text-align:left\">\n",
        "\n",
        "First, we're importing all the necessary libraries to kick off our project. We'll be relying on __TensorFlow__ and __Keras__ to handle the image data, craft our model, and optimize it for best performance:"
      ],
      "metadata": {
        "papermill": {
          "duration": 0.012218,
          "end_time": "2023-08-18T05:24:44.213304",
          "exception": false,
          "start_time": "2023-08-18T05:24:44.201086",
          "status": "completed"
        },
        "tags": [],
        "id": "ib1o0FGFvkM7"
      }
    },
    {
      "cell_type": "code",
      "source": [
        "import warnings\n",
        "warnings.filterwarnings('ignore')\n",
        "\n",
        "import cv2\n",
        "import numpy as np\n",
        "import urllib.request\n",
        "import matplotlib.pyplot as plt\n",
        "from sklearn.model_selection import train_test_split\n",
        "from keras.datasets import cifar10\n",
        "from keras.preprocessing.image import ImageDataGenerator\n",
        "from keras.utils import to_categorical\n",
        "from keras.models import Sequential\n",
        "from keras.layers import Dense, Conv2D, MaxPooling2D\n",
        "from keras.layers import Dropout, Flatten, BatchNormalization\n",
        "from keras.regularizers import l2\n",
        "from keras.optimizers import Adam\n",
        "from keras.callbacks import ReduceLROnPlateau, EarlyStopping\n",
        "from keras.models import load_model"
      ],
      "metadata": {
        "papermill": {
          "duration": 9.462913,
          "end_time": "2023-08-18T05:24:53.688481",
          "exception": false,
          "start_time": "2023-08-18T05:24:44.225568",
          "status": "completed"
        },
        "tags": [],
        "execution": {
          "iopub.status.busy": "2023-08-19T07:19:41.105201Z",
          "iopub.execute_input": "2023-08-19T07:19:41.105864Z",
          "iopub.status.idle": "2023-08-19T07:19:51.482223Z",
          "shell.execute_reply.started": "2023-08-19T07:19:41.105829Z",
          "shell.execute_reply": "2023-08-19T07:19:51.481243Z"
        },
        "trusted": true,
        "id": "ETFsF3Q9vkM8",
        "outputId": "d0f4408e-e95a-4e24-f19d-b764b919e529",
        "colab": {
          "base_uri": "https://localhost:8080/",
          "height": 383
        }
      },
      "execution_count": null,
      "outputs": [
        {
          "output_type": "error",
          "ename": "ImportError",
          "evalue": "cannot import name 'ImageDataGenerator' from 'keras.preprocessing.image' (/usr/local/lib/python3.11/dist-packages/keras/api/preprocessing/image/__init__.py)",
          "traceback": [
            "\u001b[0;31m---------------------------------------------------------------------------\u001b[0m",
            "\u001b[0;31mImportError\u001b[0m                               Traceback (most recent call last)",
            "\u001b[0;32m<ipython-input-1-66c558444a69>\u001b[0m in \u001b[0;36m<cell line: 0>\u001b[0;34m()\u001b[0m\n\u001b[1;32m      8\u001b[0m \u001b[0;32mfrom\u001b[0m \u001b[0msklearn\u001b[0m\u001b[0;34m.\u001b[0m\u001b[0mmodel_selection\u001b[0m \u001b[0;32mimport\u001b[0m \u001b[0mtrain_test_split\u001b[0m\u001b[0;34m\u001b[0m\u001b[0;34m\u001b[0m\u001b[0m\n\u001b[1;32m      9\u001b[0m \u001b[0;32mfrom\u001b[0m \u001b[0mkeras\u001b[0m\u001b[0;34m.\u001b[0m\u001b[0mdatasets\u001b[0m \u001b[0;32mimport\u001b[0m \u001b[0mcifar10\u001b[0m\u001b[0;34m\u001b[0m\u001b[0;34m\u001b[0m\u001b[0m\n\u001b[0;32m---> 10\u001b[0;31m \u001b[0;32mfrom\u001b[0m \u001b[0mkeras\u001b[0m\u001b[0;34m.\u001b[0m\u001b[0mpreprocessing\u001b[0m\u001b[0;34m.\u001b[0m\u001b[0mimage\u001b[0m \u001b[0;32mimport\u001b[0m \u001b[0mImageDataGenerator\u001b[0m\u001b[0;34m\u001b[0m\u001b[0;34m\u001b[0m\u001b[0m\n\u001b[0m\u001b[1;32m     11\u001b[0m \u001b[0;32mfrom\u001b[0m \u001b[0mkeras\u001b[0m\u001b[0;34m.\u001b[0m\u001b[0mutils\u001b[0m \u001b[0;32mimport\u001b[0m \u001b[0mto_categorical\u001b[0m\u001b[0;34m\u001b[0m\u001b[0;34m\u001b[0m\u001b[0m\n\u001b[1;32m     12\u001b[0m \u001b[0;32mfrom\u001b[0m \u001b[0mkeras\u001b[0m\u001b[0;34m.\u001b[0m\u001b[0mmodels\u001b[0m \u001b[0;32mimport\u001b[0m \u001b[0mSequential\u001b[0m\u001b[0;34m\u001b[0m\u001b[0;34m\u001b[0m\u001b[0m\n",
            "\u001b[0;31mImportError\u001b[0m: cannot import name 'ImageDataGenerator' from 'keras.preprocessing.image' (/usr/local/lib/python3.11/dist-packages/keras/api/preprocessing/image/__init__.py)",
            "",
            "\u001b[0;31m---------------------------------------------------------------------------\u001b[0;32m\nNOTE: If your import is failing due to a missing package, you can\nmanually install dependencies using either !pip or !apt.\n\nTo view examples of installing some common dependencies, click the\n\"Open Examples\" button below.\n\u001b[0;31m---------------------------------------------------------------------------\u001b[0m\n"
          ],
          "errorDetails": {
            "actions": [
              {
                "action": "open_url",
                "actionText": "Open Examples",
                "url": "/notebooks/snippets/importing_libraries.ipynb"
              }
            ]
          }
        }
      ]
    },
    {
      "cell_type": "markdown",
      "source": [
        "<a id=\"exploration\"></a>\n",
        "# <p style=\"background-color:#8502d1; font-family:calibri; color:white; font-size:150%; text-align:center; border-radius:15px 50px;\">Step 2 | Data Preparation and Exploration</p>\n",
        "\n",
        "⬆️ [Tabel of Contents](#contents_tabel)"
      ],
      "metadata": {
        "papermill": {
          "duration": 0.01213,
          "end_time": "2023-08-18T05:24:53.713709",
          "exception": false,
          "start_time": "2023-08-18T05:24:53.701579",
          "status": "completed"
        },
        "tags": [],
        "id": "IdqJcTO1vkM9"
      }
    },
    {
      "cell_type": "markdown",
      "source": [
        "<div style=\"border-radius:12px; padding: 20px; background-color: #e2c9ff; font-size:120%; text-align:left\">\n",
        "\n",
        "First, let's download the __CIFAR-10__ dataset from Keras library:"
      ],
      "metadata": {
        "papermill": {
          "duration": 0.011995,
          "end_time": "2023-08-18T05:24:53.738391",
          "exception": false,
          "start_time": "2023-08-18T05:24:53.726396",
          "status": "completed"
        },
        "tags": [],
        "id": "JmxYTsnUvkM-"
      }
    },
    {
      "cell_type": "code",
      "source": [
        "(X_train, y_train), (X_test, y_test) = cifar10.load_data()"
      ],
      "metadata": {
        "papermill": {
          "duration": 6.532997,
          "end_time": "2023-08-18T05:25:00.284306",
          "exception": false,
          "start_time": "2023-08-18T05:24:53.751309",
          "status": "completed"
        },
        "tags": [],
        "execution": {
          "iopub.status.busy": "2023-08-19T07:19:51.483671Z",
          "iopub.execute_input": "2023-08-19T07:19:51.484377Z",
          "iopub.status.idle": "2023-08-19T07:19:56.285269Z",
          "shell.execute_reply.started": "2023-08-19T07:19:51.48435Z",
          "shell.execute_reply": "2023-08-19T07:19:56.284284Z"
        },
        "trusted": true,
        "id": "9E7LE4pSvkM-"
      },
      "execution_count": null,
      "outputs": []
    },
    {
      "cell_type": "markdown",
      "source": [
        "<div style=\"border-radius:12px; padding: 20px; background-color: #e2c9ff; font-size:120%; text-align:left\">\n",
        "\n",
        "Then, let's split original training data to training and validation sets:"
      ],
      "metadata": {
        "papermill": {
          "duration": 0.015176,
          "end_time": "2023-08-18T05:25:00.325662",
          "exception": false,
          "start_time": "2023-08-18T05:25:00.310486",
          "status": "completed"
        },
        "tags": [],
        "id": "JDEKfI68vkM-"
      }
    },
    {
      "cell_type": "code",
      "source": [
        "X_train, X_valid, y_train, y_valid = train_test_split(X_train, y_train, test_size=0.1, random_state=0)"
      ],
      "metadata": {
        "papermill": {
          "duration": 0.076708,
          "end_time": "2023-08-18T05:25:00.417465",
          "exception": false,
          "start_time": "2023-08-18T05:25:00.340757",
          "status": "completed"
        },
        "tags": [],
        "execution": {
          "iopub.status.busy": "2023-08-19T07:19:56.288216Z",
          "iopub.execute_input": "2023-08-19T07:19:56.288627Z",
          "iopub.status.idle": "2023-08-19T07:19:56.349213Z",
          "shell.execute_reply.started": "2023-08-19T07:19:56.28859Z",
          "shell.execute_reply": "2023-08-19T07:19:56.348092Z"
        },
        "trusted": true,
        "id": "lql8KQ3kvkM_"
      },
      "execution_count": null,
      "outputs": []
    },
    {
      "cell_type": "markdown",
      "source": [
        "<div style=\"border-radius:12px; padding: 20px; background-color: #e2c9ff; font-size:120%; text-align:left\">\n",
        "    \n",
        "Now, we're printing out the dimensions of our training, validation, and test datasets:"
      ],
      "metadata": {
        "papermill": {
          "duration": 0.015238,
          "end_time": "2023-08-18T05:25:00.448485",
          "exception": false,
          "start_time": "2023-08-18T05:25:00.433247",
          "status": "completed"
        },
        "tags": [],
        "id": "TTZgCfPdvkM_"
      }
    },
    {
      "cell_type": "code",
      "source": [
        "print('Train Images Shape:      ', X_train.shape)\n",
        "print('Train Labels Shape:      ', y_train.shape)\n",
        "\n",
        "print('\\nValidation Images Shape: ', X_valid.shape)\n",
        "print('Validation Labels Shape: ', y_valid.shape)\n",
        "\n",
        "print('\\nTest Images Shape:       ', X_test.shape)\n",
        "print('Test Labels Shape:       ', y_test.shape)"
      ],
      "metadata": {
        "papermill": {
          "duration": 0.025259,
          "end_time": "2023-08-18T05:25:00.488776",
          "exception": false,
          "start_time": "2023-08-18T05:25:00.463517",
          "status": "completed"
        },
        "tags": [],
        "execution": {
          "iopub.status.busy": "2023-08-19T07:19:56.350631Z",
          "iopub.execute_input": "2023-08-19T07:19:56.351647Z",
          "iopub.status.idle": "2023-08-19T07:19:56.360302Z",
          "shell.execute_reply.started": "2023-08-19T07:19:56.351612Z",
          "shell.execute_reply": "2023-08-19T07:19:56.359014Z"
        },
        "trusted": true,
        "id": "QwE2TTtmvkM_"
      },
      "execution_count": null,
      "outputs": []
    },
    {
      "cell_type": "markdown",
      "source": [
        "<div style=\"border-radius:12px; padding: 20px; background-color: #e2c9ff; font-size:120%; text-align:left\">\n",
        "\n",
        "Afterward, let's take an overview of the __CIFAR-10__ dataset:"
      ],
      "metadata": {
        "papermill": {
          "duration": 0.015838,
          "end_time": "2023-08-18T05:25:00.51997",
          "exception": false,
          "start_time": "2023-08-18T05:25:00.504132",
          "status": "completed"
        },
        "tags": [],
        "id": "IGDvs_xQvkM_"
      }
    },
    {
      "cell_type": "code",
      "source": [
        "# CIFAR-10 classes\n",
        "class_names = ['airplane', 'automobile', 'bird', 'cat', 'deer', 'dog', 'frog', 'horse', 'ship', 'truck']\n",
        "\n",
        "# Create a new figure\n",
        "plt.figure(figsize=(15,15))\n",
        "\n",
        "# Loop over the first 25 images\n",
        "for i in range(64):\n",
        "    # Create a subplot for each image\n",
        "    plt.subplot(8, 8, i+1)\n",
        "    plt.xticks([])\n",
        "    plt.yticks([])\n",
        "    plt.grid(False)\n",
        "\n",
        "    # Display the image\n",
        "    plt.imshow(X_train[i])\n",
        "\n",
        "    # Set the label as the title\n",
        "    plt.title(class_names[y_train[i][0]], fontsize=12)\n",
        "\n",
        "# Display the figure\n",
        "plt.show()"
      ],
      "metadata": {
        "papermill": {
          "duration": 2.983705,
          "end_time": "2023-08-18T05:25:03.518975",
          "exception": false,
          "start_time": "2023-08-18T05:25:00.53527",
          "status": "completed"
        },
        "tags": [],
        "execution": {
          "iopub.status.busy": "2023-08-19T07:19:56.362001Z",
          "iopub.execute_input": "2023-08-19T07:19:56.362558Z",
          "iopub.status.idle": "2023-08-19T07:19:59.375297Z",
          "shell.execute_reply.started": "2023-08-19T07:19:56.362523Z",
          "shell.execute_reply": "2023-08-19T07:19:59.374426Z"
        },
        "trusted": true,
        "id": "ak3kOv3SvkNA"
      },
      "execution_count": null,
      "outputs": []
    },
    {
      "cell_type": "markdown",
      "source": [
        "<a id=\"preprocessing\"></a>\n",
        "# <p style=\"background-color:#8502d1; font-family:calibri; color:white; font-size:150%; text-align:center; border-radius:15px 50px;\">Step 3 | Data Preprocessing</p>\n",
        "\n",
        "⬆️ [Tabel of Contents](#contents_tabel)"
      ],
      "metadata": {
        "papermill": {
          "duration": 0.020794,
          "end_time": "2023-08-18T05:25:03.561135",
          "exception": false,
          "start_time": "2023-08-18T05:25:03.540341",
          "status": "completed"
        },
        "tags": [],
        "id": "qkup0BwtvkNA"
      }
    },
    {
      "cell_type": "markdown",
      "source": [
        "<div style=\"border-radius:12px; padding: 20px; background-color: #e2c9ff; font-size:120%; text-align:left\">\n",
        "\n",
        "In the **Data Preprocessing** phase, we undertake essential preparatory measures to ensure our dataset is aptly primed for the modeling process:\n",
        "\n",
        "1. **Normalization of Image Data**\n",
        "\n",
        "2. **One-Hot Encoding of Labels**\n",
        "\n",
        "3. **Data Augmentation**"
      ],
      "metadata": {
        "papermill": {
          "duration": 0.020263,
          "end_time": "2023-08-18T05:25:03.601579",
          "exception": false,
          "start_time": "2023-08-18T05:25:03.581316",
          "status": "completed"
        },
        "tags": [],
        "id": "WQ5PmQ6_vkNA"
      }
    },
    {
      "cell_type": "markdown",
      "source": [
        "<a id=\"normalization\"></a>\n",
        "\n",
        "# <b><span style='color:darkorange'>Step 3.1 |</span><span style='color: #8502d1'> Normalization of Image Data</span></b>"
      ],
      "metadata": {
        "papermill": {
          "duration": 0.020815,
          "end_time": "2023-08-18T05:25:03.643979",
          "exception": false,
          "start_time": "2023-08-18T05:25:03.623164",
          "status": "completed"
        },
        "tags": [],
        "id": "XTC1RD1KvkNA"
      }
    },
    {
      "cell_type": "markdown",
      "source": [
        "<div style=\"border-radius:12px; padding: 20px; background-color: #e2c9ff; font-size:120%; text-align:left\">\n",
        "    \n",
        "First of all, I am going to convert the pixel values data type to __float32__ type, and then normalizes them by subtracting the mean and dividing by the standard deviation of the training set, enhancing the model's training efficiency and effectiveness:"
      ],
      "metadata": {
        "papermill": {
          "duration": 0.020466,
          "end_time": "2023-08-18T05:25:03.684588",
          "exception": false,
          "start_time": "2023-08-18T05:25:03.664122",
          "status": "completed"
        },
        "tags": [],
        "id": "fEuT13xVvkNA"
      }
    },
    {
      "cell_type": "code",
      "source": [
        "# Convert pixel values data type to float32\n",
        "X_train = X_train.astype('float32')\n",
        "X_test  = X_test.astype('float32')\n",
        "X_valid = X_valid.astype('float32')\n",
        "\n",
        "# Calculate the mean and standard deviation of the training images\n",
        "mean = np.mean(X_train)\n",
        "std  = np.std(X_train)\n",
        "\n",
        "# Normalize the data\n",
        "# The tiny value 1e-7 is added to prevent division by zero\n",
        "X_train = (X_train-mean)/(std+1e-7)\n",
        "X_test  = (X_test-mean) /(std+1e-7)\n",
        "X_valid = (X_valid-mean)/(std+1e-7)"
      ],
      "metadata": {
        "papermill": {
          "duration": 0.867164,
          "end_time": "2023-08-18T05:25:04.57287",
          "exception": false,
          "start_time": "2023-08-18T05:25:03.705706",
          "status": "completed"
        },
        "tags": [],
        "execution": {
          "iopub.status.busy": "2023-08-19T07:19:59.376334Z",
          "iopub.execute_input": "2023-08-19T07:19:59.376661Z",
          "iopub.status.idle": "2023-08-19T07:20:00.210711Z",
          "shell.execute_reply.started": "2023-08-19T07:19:59.376631Z",
          "shell.execute_reply": "2023-08-19T07:20:00.209663Z"
        },
        "trusted": true,
        "id": "gqzFlPkFvkNA"
      },
      "execution_count": null,
      "outputs": []
    },
    {
      "cell_type": "markdown",
      "source": [
        "<a id=\"onehot\"></a>\n",
        "\n",
        "# <b><span style='color:darkorange'>Step 3.2 |</span><span style='color: #8502d1'> One-Hot Encoding of Labels</span></b>"
      ],
      "metadata": {
        "papermill": {
          "duration": 0.020968,
          "end_time": "2023-08-18T05:25:04.616716",
          "exception": false,
          "start_time": "2023-08-18T05:25:04.595748",
          "status": "completed"
        },
        "tags": [],
        "id": "-xz8afuZvkNB"
      }
    },
    {
      "cell_type": "markdown",
      "source": [
        "<div style=\"border-radius:12px; padding: 20px; background-color: #e2c9ff; font-size:120%; text-align:left\">\n",
        "\n",
        "Then, I am going to convert the class labels to one-hot vectors to transform the categorical labels into a format suitable for multi-class classification by neural networks:"
      ],
      "metadata": {
        "papermill": {
          "duration": 0.020419,
          "end_time": "2023-08-18T05:25:04.658559",
          "exception": false,
          "start_time": "2023-08-18T05:25:04.63814",
          "status": "completed"
        },
        "tags": [],
        "id": "AkdvKQC3vkNB"
      }
    },
    {
      "cell_type": "code",
      "source": [
        "y_train = to_categorical(y_train, 10)\n",
        "y_valid = to_categorical(y_valid, 10)\n",
        "y_test  = to_categorical(y_test, 10)"
      ],
      "metadata": {
        "papermill": {
          "duration": 0.029784,
          "end_time": "2023-08-18T05:25:04.708587",
          "exception": false,
          "start_time": "2023-08-18T05:25:04.678803",
          "status": "completed"
        },
        "tags": [],
        "execution": {
          "iopub.status.busy": "2023-08-19T07:20:00.212404Z",
          "iopub.execute_input": "2023-08-19T07:20:00.212808Z",
          "iopub.status.idle": "2023-08-19T07:20:00.220322Z",
          "shell.execute_reply.started": "2023-08-19T07:20:00.212769Z",
          "shell.execute_reply": "2023-08-19T07:20:00.219163Z"
        },
        "trusted": true,
        "id": "01sK9FC3vkNB"
      },
      "execution_count": null,
      "outputs": []
    },
    {
      "cell_type": "markdown",
      "source": [
        "<a id=\"augmentation\"></a>\n",
        "\n",
        "# <b><span style='color:darkorange'>Step 3.3 |</span><span style='color: #8502d1'> Data Augmentation</span></b>"
      ],
      "metadata": {
        "papermill": {
          "duration": 0.020298,
          "end_time": "2023-08-18T05:25:04.74923",
          "exception": false,
          "start_time": "2023-08-18T05:25:04.728932",
          "status": "completed"
        },
        "tags": [],
        "id": "lX_x649mvkNB"
      }
    },
    {
      "cell_type": "markdown",
      "source": [
        "<div style=\"border-radius:12px; padding: 20px; background-color: #e2c9ff; font-size:120%; text-align:left\">\n",
        "\n",
        "Finally, I am going to implement data augmentation to artificially expand the size of the training set by creating modified versions of images in the dataset. This helps improve the model's ability to generalize, thereby reducing overfitting. Data augmentation techniques such as rotations, shifts, flips, shearing, and intensity changes introduce small variations to the existing images, creating a broader set of training samples to learn from.\n",
        "\n",
        "The choice of data augmentation techniques often depends on the specific characteristics of the dataset and the problem at hand. The __CIFAR-10__ dataset comprises small color images of objects from 10 different classes. Given the nature of these images, some augmentation techniques are more applicable than others:\n",
        "\n",
        "* __Rotation__: A small degree of rotation can help the model become invariant to the orientation of the object. The `rotation_range=15` means the image could be rotated randomly within -15 to 15 degrees. However, large rotations could be harmful since the CIFAR-10 images are relatively small and a big rotation might put the object outside of the image.\n",
        "\n",
        "    \n",
        "* __Width and Height shift__: Small shifts can help the model become invariant to the position of the object in the image. Here, `width_shift_range=0.12` and `height_shift_range=0.12` mean the image could be moved horizontally or vertically by up to 12% of its width or height respectively. Again, since the images are small, large shifts might put the object outside of the image.\n",
        "\n",
        "    \n",
        "* __Horizontal Flip__: A horizontal flip is a sensible choice for this dataset because for many images, the object of interest remains the same when flipped horizontally (for example, a flipped car is still a car).\n",
        "\n",
        "    \n",
        "* __Zoom__: Small zooming in by up to 10% (`zoom_range=0.1`) can also help the model generalize better. However, excessive zooming might lead to significant information loss.\n",
        "\n",
        "    \n",
        "* __Brightness Range__: Changing brightness can simulate various lighting conditions. With `brightness_range=[0.9,1.1]`, the brightness of the image is randomly changed to a value between 90% and 110% of the original brightness.\n",
        "\n",
        "    \n",
        "* __Shear Intensity__: With `shear_range=10`, a shear intensity within the range of -10 to +10 degrees is applied. This transformation slants the shape of the image, helping the model to recognize objects in different perspectives.\n",
        "\n",
        "    \n",
        "* __Channel Shift Intensity__: With `channel_shift_range=0.1`, the intensities of the RGB channels are randomly shifted by up to 10% of their full scale. This can help the model handle different lighting conditions and color variations.\n",
        "\n",
        "While some augmentation techniques like vertical flips and color jittering may not be appropriate for all classes in the __CIFAR-10__ dataset, the chosen techniques are expected to help improve the robustness and generalization capability of the model."
      ],
      "metadata": {
        "papermill": {
          "duration": 0.020092,
          "end_time": "2023-08-18T05:25:04.789722",
          "exception": false,
          "start_time": "2023-08-18T05:25:04.76963",
          "status": "completed"
        },
        "tags": [],
        "id": "qVcGHHZhvkNC"
      }
    },
    {
      "cell_type": "code",
      "source": [
        "# Data augmentation\n",
        "data_generator = ImageDataGenerator(\n",
        "    # Rotate images randomly by up to 15 degrees\n",
        "    rotation_range=15,\n",
        "\n",
        "    # Shift images horizontally by up to 12% of their width\n",
        "    width_shift_range=0.12,\n",
        "\n",
        "    # Shift images vertically by up to 12% of their height\n",
        "    height_shift_range=0.12,\n",
        "\n",
        "    # Randomly flip images horizontally\n",
        "    horizontal_flip=True,\n",
        "\n",
        "    # Zoom images in by up to 10%\n",
        "    zoom_range=0.1,\n",
        "\n",
        "    # Change brightness by up to 10%\n",
        "    brightness_range=[0.9,1.1],\n",
        "\n",
        "    # Shear intensity (shear angle in counter-clockwise direction in degrees)\n",
        "    shear_range=10,\n",
        "\n",
        "    # Channel shift intensity\n",
        "    channel_shift_range=0.1,\n",
        ")"
      ],
      "metadata": {
        "papermill": {
          "duration": 0.029903,
          "end_time": "2023-08-18T05:25:04.840052",
          "exception": false,
          "start_time": "2023-08-18T05:25:04.810149",
          "status": "completed"
        },
        "tags": [],
        "execution": {
          "iopub.status.busy": "2023-08-19T07:20:00.225406Z",
          "iopub.execute_input": "2023-08-19T07:20:00.225692Z",
          "iopub.status.idle": "2023-08-19T07:20:00.232535Z",
          "shell.execute_reply.started": "2023-08-19T07:20:00.225667Z",
          "shell.execute_reply": "2023-08-19T07:20:00.231609Z"
        },
        "trusted": true,
        "id": "8dPQEnOJvkNC"
      },
      "execution_count": null,
      "outputs": []
    },
    {
      "cell_type": "markdown",
      "source": [
        "<div style=\"border-radius:12px; padding: 20px; background-color: #e2c9ff; font-size:120%; text-align:left\">\n",
        "    \n",
        "When running the above code, we are setting up a pipeline for preprocessing the images during model training. The generator applies a series of random transformations (specified by the parameters) to the images each time they are loaded into the model for training. Each time an epoch is run during model training, these random transformations will create different variations of the original images. These changes are made __on-the-fly__ and don't modify our original dataset.      "
      ],
      "metadata": {
        "papermill": {
          "duration": 0.020151,
          "end_time": "2023-08-18T05:25:04.880761",
          "exception": false,
          "start_time": "2023-08-18T05:25:04.86061",
          "status": "completed"
        },
        "tags": [],
        "id": "G81laIFpvkNC"
      }
    },
    {
      "cell_type": "markdown",
      "source": [
        "<a id=\"cnn\"></a>\n",
        "# <p style=\"background-color:#8502d1; font-family:calibri; color:white; font-size:150%; text-align:center; border-radius:15px 50px;\">Step 4 | Define CNN Model Architecture</p>\n",
        "\n",
        "⬆️ [Tabel of Contents](#contents_tabel)"
      ],
      "metadata": {
        "papermill": {
          "duration": 0.020563,
          "end_time": "2023-08-18T05:25:04.922178",
          "exception": false,
          "start_time": "2023-08-18T05:25:04.901615",
          "status": "completed"
        },
        "tags": [],
        "id": "aQb_OGwevkNC"
      }
    },
    {
      "cell_type": "markdown",
      "source": [
        "<div style=\"border-radius:12px; padding: 20px; background-color: #e2c9ff; font-size:120%; text-align:left\">\n",
        "\n",
        "The model architecture I am going to define is inspired from the __VGG16__ network. It contains multiple convolutional layers followed by max-pooling and dropout layers, and finally a fully connected layer for classification. While not adopting advanced modules like residuals or inceptions, this design is simpler, ensuring fewer parameters and a more straightforward architecture, making it more computationally efficient.\n",
        "\n",
        "Here is a brief explanation of the architecture:\n",
        "\n",
        "- The network begins with __a pair of Conv2D layers__, each with __32 filters of size 3x3__. This is followed by a __Batch Normalization__ layer which accelerates training and provides some level of __regularization__, helping to prevent overfitting.\n",
        "\n",
        "    \n",
        "- The pairs of Conv2D layers are followed by a __MaxPooling2D layer__, which reduces the spatial dimensions (height and width), effectively providing a form of translation invariance and reducing computational complexity. This is followed by a __Dropout layer__ that randomly sets a fraction (0.2 for the first dropout layer) of the input units to 0 at each update during training, helping to prevent overfitting.\n",
        "\n",
        "    \n",
        "- This pattern of two Conv2D layers, followed by a Batch Normalization layer, a MaxPooling2D layer, and a Dropout layer, repeats three more times. The number of filters in the Conv2D layers doubles with each repetition, starting from 32 and going up to 64, 128, and then 256. This increasing pattern helps the network to learn more complex features at each level. The dropout rate also increases at each step, from 0.2 to 0.5.\n",
        "\n",
        "    \n",
        "- After the convolutional and pooling layers, a __Flatten layer__ is used to convert the 2D outputs of the preceding layer into a 1D vector.\n",
        "\n",
        "    \n",
        "- Finally, a __Dense (or fully connected) layer__ is used for classification. It has 10 units, each representing one of the 10 classes of the CIFAR-10 dataset, and a __softmax activation function__ is used to convert the outputs to probability scores for each class.\n",
        "\n",
        "    \n",
        "This architecture leverages the strengths of deep CNNs to learn hierarchical features from the CIFAR-10 images. Regularization techniques such as __L2 regularization__, __Dropout__, and __Batch Normalization__ are also used to combat overfitting. While being inspired by VGG16, the model remains simpler and does not incorporate the more advanced features of recent architectures, focusing instead on efficiency and simplicity."
      ],
      "metadata": {
        "papermill": {
          "duration": 0.02114,
          "end_time": "2023-08-18T05:25:04.964436",
          "exception": false,
          "start_time": "2023-08-18T05:25:04.943296",
          "status": "completed"
        },
        "tags": [],
        "id": "DVXo-wj4vkND"
      }
    },
    {
      "cell_type": "code",
      "source": [
        "# Initialize a sequential model\n",
        "model = Sequential()\n",
        "\n",
        "# Set the weight decay value for L2 regularization\n",
        "weight_decay = 0.0001\n",
        "\n",
        "# Add the first convolutional layer with 32 filters of size 3x3\n",
        "model.add(Conv2D(filters=32, kernel_size=(3,3), padding='same', activation='relu', kernel_regularizer=l2(weight_decay),\n",
        "                 input_shape=X_train.shape[1:]))\n",
        "# Add batch normalization layer\n",
        "model.add(BatchNormalization())\n",
        "\n",
        "# Add the second convolutional layer similar to the first\n",
        "model.add(Conv2D(filters=32, kernel_size=(3,3), padding='same', activation='relu', kernel_regularizer=l2(weight_decay)))\n",
        "model.add(BatchNormalization())\n",
        "\n",
        "# Add the first max pooling layer with pool size of 2x2\n",
        "model.add(MaxPooling2D(pool_size=(2, 2)))\n",
        "# Add dropout layer with 0.2 dropout rate\n",
        "model.add(Dropout(rate=0.2))\n",
        "\n",
        "# Add the third and fourth convolutional layers with 64 filters\n",
        "model.add(Conv2D(filters=64, kernel_size=(3,3), padding='same', activation='relu', kernel_regularizer=l2(weight_decay)))\n",
        "model.add(BatchNormalization())\n",
        "model.add(Conv2D(filters=64, kernel_size=(3,3), padding='same', activation='relu', kernel_regularizer=l2(weight_decay)))\n",
        "model.add(BatchNormalization())\n",
        "\n",
        "# Add the second max pooling layer and increase dropout rate to 0.3\n",
        "model.add(MaxPooling2D(pool_size=(2, 2)))\n",
        "model.add(Dropout(rate=0.3))\n",
        "\n",
        "# Add the fifth and sixth convolutional layers with 128 filters\n",
        "model.add(Conv2D(filters=128, kernel_size=(3,3), padding='same', activation='relu', kernel_regularizer=l2(weight_decay)))\n",
        "model.add(BatchNormalization())\n",
        "model.add(Conv2D(filters=128, kernel_size=(3,3), padding='same', activation='relu', kernel_regularizer=l2(weight_decay)))\n",
        "model.add(BatchNormalization())\n",
        "\n",
        "# Add the third max pooling layer and increase dropout rate to 0.4\n",
        "model.add(MaxPooling2D(pool_size=(2, 2)))\n",
        "model.add(Dropout(rate=0.4))\n",
        "\n",
        "# Add the seventh and eighth convolutional layers with 256 filters\n",
        "model.add(Conv2D(filters=256, kernel_size=(3,3), padding='same', activation='relu', kernel_regularizer=l2(weight_decay)))\n",
        "model.add(BatchNormalization())\n",
        "model.add(Conv2D(filters=256, kernel_size=(3,3), padding='same', activation='relu', kernel_regularizer=l2(weight_decay)))\n",
        "model.add(BatchNormalization())\n",
        "\n",
        "# Add the fourth max pooling layer and increase dropout rate to 0.5\n",
        "model.add(MaxPooling2D(pool_size=(2, 2)))\n",
        "model.add(Dropout(rate=0.5))\n",
        "\n",
        "# Flatten the tensor output from the previous layer\n",
        "model.add(Flatten())\n",
        "\n",
        "# Add a fully connected layer with softmax activation function for outputting class probabilities\n",
        "model.add(Dense(10, activation='softmax'))"
      ],
      "metadata": {
        "papermill": {
          "duration": 4.871222,
          "end_time": "2023-08-18T05:25:09.85613",
          "exception": false,
          "start_time": "2023-08-18T05:25:04.984908",
          "status": "completed"
        },
        "tags": [],
        "execution": {
          "iopub.status.busy": "2023-08-19T07:20:00.233974Z",
          "iopub.execute_input": "2023-08-19T07:20:00.234403Z",
          "iopub.status.idle": "2023-08-19T07:20:05.341788Z",
          "shell.execute_reply.started": "2023-08-19T07:20:00.234372Z",
          "shell.execute_reply": "2023-08-19T07:20:05.340717Z"
        },
        "trusted": true,
        "id": "-QSQx2I4vkND"
      },
      "execution_count": null,
      "outputs": []
    },
    {
      "cell_type": "markdown",
      "source": [
        "<div style=\"border-radius:12px; padding: 20px; background-color: #e2c9ff; font-size:120%; text-align:left\">\n",
        "\n",
        "Let's display the detailed architecture of the model:"
      ],
      "metadata": {
        "papermill": {
          "duration": 0.024595,
          "end_time": "2023-08-18T05:25:09.907409",
          "exception": false,
          "start_time": "2023-08-18T05:25:09.882814",
          "status": "completed"
        },
        "tags": [],
        "id": "yxKEqlO7vkND"
      }
    },
    {
      "cell_type": "code",
      "source": [
        "model.summary()"
      ],
      "metadata": {
        "papermill": {
          "duration": 0.15224,
          "end_time": "2023-08-18T05:25:10.08137",
          "exception": false,
          "start_time": "2023-08-18T05:25:09.92913",
          "status": "completed"
        },
        "tags": [],
        "execution": {
          "iopub.status.busy": "2023-08-19T07:20:05.343977Z",
          "iopub.execute_input": "2023-08-19T07:20:05.344643Z",
          "iopub.status.idle": "2023-08-19T07:20:05.408036Z",
          "shell.execute_reply.started": "2023-08-19T07:20:05.344605Z",
          "shell.execute_reply": "2023-08-19T07:20:05.407175Z"
        },
        "trusted": true,
        "id": "PX8d-tsRvkNE"
      },
      "execution_count": null,
      "outputs": []
    },
    {
      "cell_type": "markdown",
      "source": [
        "<div style=\"border-radius:12px; padding: 20px; background-color: #e2c9ff; font-size:120%; text-align:left\">\n",
        "\n",
        "Our model consists of __1,186,346 parameters__, of which 1,184,426 are trainable. This is __a relatively compact model__, especially when compared to advanced architectures which often have tens or even hundreds of millions of parameters."
      ],
      "metadata": {
        "papermill": {
          "duration": 0.02853,
          "end_time": "2023-08-18T05:25:10.137084",
          "exception": false,
          "start_time": "2023-08-18T05:25:10.108554",
          "status": "completed"
        },
        "tags": [],
        "id": "gre3LmdDvkNE"
      }
    },
    {
      "cell_type": "markdown",
      "source": [
        "<a id=\"train\"></a>\n",
        "# <p style=\"background-color:#8502d1; font-family:calibri; color:white; font-size:150%; text-align:center; border-radius:15px 50px;\">Step 5 | Training the CNN Model</p>\n",
        "\n",
        "⬆️ [Tabel of Contents](#contents_tabel)"
      ],
      "metadata": {
        "papermill": {
          "duration": 0.032244,
          "end_time": "2023-08-18T05:25:10.196993",
          "exception": false,
          "start_time": "2023-08-18T05:25:10.164749",
          "status": "completed"
        },
        "tags": [],
        "id": "TxVGkBCsvkNE"
      }
    },
    {
      "cell_type": "markdown",
      "source": [
        "<div style=\"border-radius:12px; padding: 20px; background-color: #e2c9ff; font-size:120%; text-align:left\">\n",
        "\n",
        "Now, I am going to train my neural network model. The training uses a batch size of 64 and will run for a maximum of 250 epochs or until the early stopping condition is met. During the training, the model's performance is evaluated on the validation data after each epoch. I've added a couple of callback functions to enhance the training process:\n",
        "\n",
        "* The __ReduceLROnPlateau callback__ is used to reduce the learning rate by half (factor=0.5) whenever the validation loss does not improve for 10 consecutive epochs. This helps to adjust the learning rate dynamically, allowing the model to get closer to the global minimum of the loss function when progress has plateaued. This strategy can improve the convergence of the training process.\n",
        "    \n",
        "\n",
        "* The __EarlyStopping callback__ is employed to monitor the validation loss and halt the training process when there hasn't been any improvement for a certain number of epochs, ensuring that the model doesn't waste computational resources and time. Furthermore, this callback restores the best weights from the training process, ensuring we conclude with the optimal model configuration from the epochs."
      ],
      "metadata": {
        "papermill": {
          "duration": 0.047807,
          "end_time": "2023-08-18T05:25:10.292531",
          "exception": false,
          "start_time": "2023-08-18T05:25:10.244724",
          "status": "completed"
        },
        "tags": [],
        "id": "_YqUym4xvkNF"
      }
    },
    {
      "cell_type": "code",
      "source": [
        "# Set the batch size for the training\n",
        "batch_size = 64\n",
        "\n",
        "# Set the maximum number of epochs for the training\n",
        "epochs = 300\n",
        "\n",
        "# Define the optimizer (Adam)\n",
        "optimizer = Adam(learning_rate=0.0005)\n",
        "\n",
        "# Compile the model with the defined optimizer, loss function, and metrics\n",
        "model.compile(optimizer=optimizer, loss='categorical_crossentropy', metrics=['accuracy'])\n",
        "\n",
        "# Add ReduceLROnPlateau callback\n",
        "# Here, the learning rate will be reduced by half (factor=0.5) if no improvement in validation loss is observed for 10 epochs\n",
        "reduce_lr = ReduceLROnPlateau(monitor='val_loss', factor=0.5, patience=10, min_lr=0.00001)\n",
        "\n",
        "# Add EarlyStopping callback\n",
        "# Here, training will be stopped if no improvement in validation loss is observed for 40 epochs.\n",
        "# The `restore_best_weights` parameter ensures that the model weights are reset to the values from the epoch\n",
        "# with the best value of the monitored quantity (in this case, 'val_loss').\n",
        "early_stopping = EarlyStopping(monitor='val_loss', patience=40, restore_best_weights=True, verbose=1)\n",
        "\n",
        "# Fit the model on the training data, using the defined batch size and number of epochs\n",
        "# The validation data is used to evaluate the model's performance during training\n",
        "# The callbacks implemented are learning rate reduction when a plateau is reached in validation loss and\n",
        "# stopping training early if no improvement is observed\n",
        "model.fit(data_generator.flow(X_train, y_train, batch_size=batch_size),\n",
        "          epochs=epochs,\n",
        "          validation_data=(X_valid, y_valid),\n",
        "          callbacks=[reduce_lr, early_stopping],\n",
        "          verbose=2)"
      ],
      "metadata": {
        "_kg_hide-output": true,
        "papermill": {
          "duration": 12929.399898,
          "end_time": "2023-08-18T09:00:39.722406",
          "exception": false,
          "start_time": "2023-08-18T05:25:10.322508",
          "status": "completed"
        },
        "scrolled": true,
        "tags": [],
        "execution": {
          "iopub.status.busy": "2023-08-19T07:20:05.409205Z",
          "iopub.execute_input": "2023-08-19T07:20:05.409525Z",
          "iopub.status.idle": "2023-08-19T12:21:29.143695Z",
          "shell.execute_reply.started": "2023-08-19T07:20:05.409494Z",
          "shell.execute_reply": "2023-08-19T12:21:29.142191Z"
        },
        "trusted": true,
        "id": "2rm6HDH-vkNF"
      },
      "execution_count": null,
      "outputs": []
    },
    {
      "cell_type": "markdown",
      "source": [
        "<a id=\"curves\"></a>\n",
        "# <p style=\"background-color:#8502d1; font-family:calibri; color:white; font-size:150%; text-align:center; border-radius:15px 50px;\">Step 6 | Visualizing the Learning Curves</p>\n",
        "\n",
        "⬆️ [Tabel of Contents](#contents_tabel)"
      ],
      "metadata": {
        "papermill": {
          "duration": 0.053664,
          "end_time": "2023-08-18T09:00:39.890023",
          "exception": false,
          "start_time": "2023-08-18T09:00:39.836359",
          "status": "completed"
        },
        "tags": [],
        "id": "-0l1JNtJvkNF"
      }
    },
    {
      "cell_type": "markdown",
      "source": [
        "<div style=\"border-radius:12px; padding: 20px; background-color: #e2c9ff; font-size:120%; text-align:left\">\n",
        "\n",
        "Now I am going to generate plots for visualizing the training and validation loss, and accuracy evolution over epochs using model history:"
      ],
      "metadata": {
        "papermill": {
          "duration": 0.052121,
          "end_time": "2023-08-18T09:00:39.995025",
          "exception": false,
          "start_time": "2023-08-18T09:00:39.942904",
          "status": "completed"
        },
        "tags": [],
        "id": "CT52MC-MvkNF"
      }
    },
    {
      "cell_type": "code",
      "source": [
        "plt.figure(figsize=(15,6))\n",
        "\n",
        "# Plotting the training and validation loss\n",
        "plt.subplot(1, 2, 1)\n",
        "plt.plot(model.history.history['loss'], label='Train Loss', color='#8502d1')\n",
        "plt.plot(model.history.history['val_loss'], label='Validation Loss', color='darkorange')\n",
        "plt.legend()\n",
        "plt.title('Loss Evolution')\n",
        "\n",
        "# Plotting the training and validation accuracy\n",
        "plt.subplot(1, 2, 2)\n",
        "plt.plot(model.history.history['accuracy'], label='Train Accuracy', color='#8502d1')\n",
        "plt.plot(model.history.history['val_accuracy'], label='Validation Accuracy', color='darkorange')\n",
        "plt.legend()\n",
        "plt.title('Accuracy Evolution')\n",
        "\n",
        "plt.show()"
      ],
      "metadata": {
        "papermill": {
          "duration": 27.620236,
          "end_time": "2023-08-18T09:01:07.67548",
          "exception": false,
          "start_time": "2023-08-18T09:00:40.055244",
          "status": "completed"
        },
        "tags": [],
        "execution": {
          "iopub.status.busy": "2023-08-19T12:21:29.146318Z",
          "iopub.execute_input": "2023-08-19T12:21:29.147058Z",
          "iopub.status.idle": "2023-08-19T12:21:29.698919Z",
          "shell.execute_reply.started": "2023-08-19T12:21:29.14702Z",
          "shell.execute_reply": "2023-08-19T12:21:29.698018Z"
        },
        "trusted": true,
        "id": "gq-HJtUfvkNG"
      },
      "execution_count": null,
      "outputs": []
    },
    {
      "cell_type": "markdown",
      "source": [
        "<div style=\"border-radius:12px; padding: 20px; background-color: #e2c9ff; font-size:120%; text-align:left\">\n",
        "\n",
        "Based on the visualizations above, it's evident that the model is performing well without signs of overfitting. This conclusion is supported by the close alignment of training and validation accuracy and loss values throughout the training process. The gap between training and validation accuracy remains minimal, indicating that the model generalizes well to unseen data. Similarly, the model's loss on validation data closely follows the training loss, reinforcing the assertion of good generalization. Therefore, the model appears to be well regularized and not overfitting to the training data."
      ],
      "metadata": {
        "papermill": {
          "duration": 0.055602,
          "end_time": "2023-08-18T09:01:07.787039",
          "exception": false,
          "start_time": "2023-08-18T09:01:07.731437",
          "status": "completed"
        },
        "tags": [],
        "id": "AggtTvvOvkNG"
      }
    },
    {
      "cell_type": "markdown",
      "source": [
        "<a id=\"evaluation\"></a>\n",
        "# <p style=\"background-color:#8502d1; font-family:calibri; color:white; font-size:150%; text-align:center; border-radius:15px 50px;\">Step 7 | Evaluating the Optimal Model on Test Data</p>\n",
        "\n",
        "⬆️ [Tabel of Contents](#contents_tabel)"
      ],
      "metadata": {
        "papermill": {
          "duration": 0.05413,
          "end_time": "2023-08-18T09:01:07.895709",
          "exception": false,
          "start_time": "2023-08-18T09:01:07.841579",
          "status": "completed"
        },
        "tags": [],
        "id": "gMxe25xzvkNH"
      }
    },
    {
      "cell_type": "markdown",
      "source": [
        "<div style=\"border-radius:12px; padding: 20px; background-color: #e2c9ff; font-size:120%; text-align:left\">\n",
        "\n",
        "As we have set `restore_best_weights=True` in EarlyStopping, after training, the model itself will have the best weights Following this, I will use this model to evaluate its performance on the test data, calculating the test accuracy and loss:"
      ],
      "metadata": {
        "papermill": {
          "duration": 0.054231,
          "end_time": "2023-08-18T09:01:08.004551",
          "exception": false,
          "start_time": "2023-08-18T09:01:07.95032",
          "status": "completed"
        },
        "tags": [],
        "id": "cP1jSRCivkNH"
      }
    },
    {
      "cell_type": "code",
      "source": [
        "# Use the model to make predictions, evaluate on test data\n",
        "test_loss, test_acc = model.evaluate(X_test, y_test, verbose=1)\n",
        "\n",
        "print('\\nTest Accuracy:', test_acc)\n",
        "print('Test Loss:    ', test_loss)"
      ],
      "metadata": {
        "papermill": {
          "duration": 2.237538,
          "end_time": "2023-08-18T09:01:10.300746",
          "exception": false,
          "start_time": "2023-08-18T09:01:08.063208",
          "status": "completed"
        },
        "tags": [],
        "execution": {
          "iopub.status.busy": "2023-08-19T12:21:29.700477Z",
          "iopub.execute_input": "2023-08-19T12:21:29.701115Z",
          "iopub.status.idle": "2023-08-19T12:21:32.657065Z",
          "shell.execute_reply.started": "2023-08-19T12:21:29.70108Z",
          "shell.execute_reply": "2023-08-19T12:21:32.655918Z"
        },
        "trusted": true,
        "id": "W2FMagR_vkNH"
      },
      "execution_count": null,
      "outputs": []
    },
    {
      "cell_type": "markdown",
      "source": [
        "<div style=\"border-radius:12px; padding: 20px; background-color: #e2c9ff; font-size:120%; text-align:left\">\n",
        "\n",
        "<h3 align=\"left\"><font color=#8502d1>🎯 Inference:</font></h3>\n",
        "\n",
        "With a test accuracy of __more than 90%__, our model demonstrates exceptional performance on unseen data. This high accuracy, achieved using __a relatively compact model of just about 1.2 million parameters__, is noteworthy. Many advanced architectures employ tens or even hundreds of millions of parameters to achieve similar or only slightly better results. The proximity of the test loss and accuracy to their respective training counterparts signifies that our model is not merely memorizing the training data but is genuinely understanding patterns and effectively generalizing from the training data to unseen data. Thus, it can be inferred that our model not only delivers reliable predictions but also strikes a balance between efficiency and performance."
      ],
      "metadata": {
        "papermill": {
          "duration": 0.057432,
          "end_time": "2023-08-18T09:01:10.41811",
          "exception": false,
          "start_time": "2023-08-18T09:01:10.360678",
          "status": "completed"
        },
        "tags": [],
        "id": "cHe1o77evkNH"
      }
    },
    {
      "cell_type": "markdown",
      "source": [
        "<a id=\"image\"></a>\n",
        "# <p style=\"background-color:#8502d1; font-family:calibri; color:white; font-size:150%; text-align:center; border-radius:15px 50px;\">Step 8 | Performance on an Out-of-Dataset Image</p>\n",
        "\n",
        "⬆️ [Tabel of Contents](#contents_tabel)"
      ],
      "metadata": {
        "papermill": {
          "duration": 0.058761,
          "end_time": "2023-08-18T09:01:10.534951",
          "exception": false,
          "start_time": "2023-08-18T09:01:10.47619",
          "status": "completed"
        },
        "tags": [],
        "id": "5Jms4TJ2vkNI"
      }
    },
    {
      "cell_type": "markdown",
      "source": [
        "<div style=\"border-radius:12px; padding: 20px; background-color: #e2c9ff; font-size:120%; text-align:left\">\n",
        "\n",
        "To further explore the generalization capability of our trained CIFAR-10 classification model, I'll assess its performance using an external truck image. This image, which isn't part of the CIFAR-10 dataset, has been sourced from my [GitHub repository](https://github.com/FarzadNekouee/Keras-CIFAR10-CNN-Model/blob/master/truck_sample.png). It provides an opportunity to see how our model behaves with real-world, out-of-dataset samples:"
      ],
      "metadata": {
        "papermill": {
          "duration": 0.057631,
          "end_time": "2023-08-18T09:01:10.648722",
          "exception": false,
          "start_time": "2023-08-18T09:01:10.591091",
          "status": "completed"
        },
        "tags": [],
        "id": "ppEQPOSyvkNI"
      }
    },
    {
      "cell_type": "code",
      "source": [
        "# Fetch the raw image from GitHub\n",
        "url = \"https://raw.githubusercontent.com/FarzadNekouee/Keras-CIFAR10-CNN-Model/master/truck_sample.png\"\n",
        "resp = urllib.request.urlopen(url)\n",
        "image = np.asarray(bytearray(resp.read()), dtype=\"uint8\")\n",
        "image = cv2.imdecode(image, cv2.IMREAD_UNCHANGED)\n",
        "\n",
        "# Convert the image from BGR to RGB\n",
        "image = cv2.cvtColor(image, cv2.COLOR_BGR2RGB)"
      ],
      "metadata": {
        "papermill": {
          "duration": 0.297114,
          "end_time": "2023-08-18T09:01:11.003458",
          "exception": false,
          "start_time": "2023-08-18T09:01:10.706344",
          "status": "completed"
        },
        "tags": [],
        "execution": {
          "iopub.status.busy": "2023-08-19T12:21:32.658666Z",
          "iopub.execute_input": "2023-08-19T12:21:32.659223Z",
          "iopub.status.idle": "2023-08-19T12:21:32.905315Z",
          "shell.execute_reply.started": "2023-08-19T12:21:32.659189Z",
          "shell.execute_reply": "2023-08-19T12:21:32.904318Z"
        },
        "trusted": true,
        "id": "hRC0oqRkvkNI"
      },
      "execution_count": null,
      "outputs": []
    },
    {
      "cell_type": "markdown",
      "source": [
        "<div style=\"border-radius:12px; padding: 20px; background-color: #e2c9ff; font-size:120%; text-align:left\">\n",
        "\n",
        "Let's see our desired image:"
      ],
      "metadata": {
        "papermill": {
          "duration": 0.056836,
          "end_time": "2023-08-18T09:01:11.119752",
          "exception": false,
          "start_time": "2023-08-18T09:01:11.062916",
          "status": "completed"
        },
        "tags": [],
        "id": "pbkENNsbvkNJ"
      }
    },
    {
      "cell_type": "code",
      "source": [
        "# Display the image\n",
        "plt.imshow(image)\n",
        "plt.xticks([])\n",
        "plt.yticks([])\n",
        "plt.grid(False)\n",
        "plt.show()"
      ],
      "metadata": {
        "papermill": {
          "duration": 0.310929,
          "end_time": "2023-08-18T09:01:11.488072",
          "exception": false,
          "start_time": "2023-08-18T09:01:11.177143",
          "status": "completed"
        },
        "tags": [],
        "execution": {
          "iopub.status.busy": "2023-08-19T12:21:32.906819Z",
          "iopub.execute_input": "2023-08-19T12:21:32.907366Z",
          "iopub.status.idle": "2023-08-19T12:21:33.19879Z",
          "shell.execute_reply.started": "2023-08-19T12:21:32.907331Z",
          "shell.execute_reply": "2023-08-19T12:21:33.197884Z"
        },
        "trusted": true,
        "id": "ZUvs-SUCvkNJ"
      },
      "execution_count": null,
      "outputs": []
    },
    {
      "cell_type": "markdown",
      "source": [
        "<div style=\"border-radius:12px; padding: 20px; background-color: #e2c9ff; font-size:120%; text-align:left\">\n",
        "    \n",
        "We need to preprocess it in the same way as we did with the training and test data:"
      ],
      "metadata": {
        "papermill": {
          "duration": 0.064381,
          "end_time": "2023-08-18T09:01:11.619433",
          "exception": false,
          "start_time": "2023-08-18T09:01:11.555052",
          "status": "completed"
        },
        "tags": [],
        "id": "aIZldC8RvkNJ"
      }
    },
    {
      "cell_type": "code",
      "source": [
        "# Resize it to 32x32 pixels\n",
        "image = cv2.resize(image, (32,32))\n",
        "\n",
        "# Normalize the image\n",
        "image = (image-mean)/(std+1e-7)\n",
        "\n",
        "# Add an extra dimension because the model expects a batch of images\n",
        "image = image.reshape((1, 32, 32, 3))"
      ],
      "metadata": {
        "papermill": {
          "duration": 0.075603,
          "end_time": "2023-08-18T09:01:11.761355",
          "exception": false,
          "start_time": "2023-08-18T09:01:11.685752",
          "status": "completed"
        },
        "tags": [],
        "execution": {
          "iopub.status.busy": "2023-08-19T12:21:33.200085Z",
          "iopub.execute_input": "2023-08-19T12:21:33.201122Z",
          "iopub.status.idle": "2023-08-19T12:21:33.210651Z",
          "shell.execute_reply.started": "2023-08-19T12:21:33.201086Z",
          "shell.execute_reply": "2023-08-19T12:21:33.209505Z"
        },
        "trusted": true,
        "id": "7-9HBh5EvkNJ"
      },
      "execution_count": null,
      "outputs": []
    },
    {
      "cell_type": "markdown",
      "source": [
        "<div style=\"border-radius:12px; padding: 20px; background-color: #e2c9ff; font-size:120%; text-align:left\">\n",
        "    \n",
        "Make the prediction:"
      ],
      "metadata": {
        "papermill": {
          "duration": 0.062515,
          "end_time": "2023-08-18T09:01:11.888757",
          "exception": false,
          "start_time": "2023-08-18T09:01:11.826242",
          "status": "completed"
        },
        "tags": [],
        "id": "PdVLvw7FvkNK"
      }
    },
    {
      "cell_type": "code",
      "source": [
        "prediction = model.predict(image)"
      ],
      "metadata": {
        "papermill": {
          "duration": 0.599095,
          "end_time": "2023-08-18T09:01:12.55028",
          "exception": false,
          "start_time": "2023-08-18T09:01:11.951185",
          "status": "completed"
        },
        "tags": [],
        "execution": {
          "iopub.status.busy": "2023-08-19T12:21:33.212722Z",
          "iopub.execute_input": "2023-08-19T12:21:33.213178Z",
          "iopub.status.idle": "2023-08-19T12:21:33.734941Z",
          "shell.execute_reply.started": "2023-08-19T12:21:33.213121Z",
          "shell.execute_reply": "2023-08-19T12:21:33.733953Z"
        },
        "trusted": true,
        "id": "UnljnZQpvkNK"
      },
      "execution_count": null,
      "outputs": []
    },
    {
      "cell_type": "markdown",
      "source": [
        "<div style=\"border-radius:12px; padding: 20px; background-color: #e2c9ff; font-size:120%; text-align:left\">\n",
        "    \n",
        "The prediction will be a 10-element probability vector. To get the predicted class, we find the index with the maximum value:"
      ],
      "metadata": {
        "papermill": {
          "duration": 0.063343,
          "end_time": "2023-08-18T09:01:12.682259",
          "exception": false,
          "start_time": "2023-08-18T09:01:12.618916",
          "status": "completed"
        },
        "tags": [],
        "id": "OEjQwDa-vkNK"
      }
    },
    {
      "cell_type": "code",
      "source": [
        "predicted_class = prediction.argmax()\n",
        "\n",
        "print('Predicted class: ', class_names[predicted_class])"
      ],
      "metadata": {
        "papermill": {
          "duration": 0.075911,
          "end_time": "2023-08-18T09:01:12.823013",
          "exception": false,
          "start_time": "2023-08-18T09:01:12.747102",
          "status": "completed"
        },
        "tags": [],
        "execution": {
          "iopub.status.busy": "2023-08-19T12:21:33.736516Z",
          "iopub.execute_input": "2023-08-19T12:21:33.736933Z",
          "iopub.status.idle": "2023-08-19T12:21:33.743699Z",
          "shell.execute_reply.started": "2023-08-19T12:21:33.736896Z",
          "shell.execute_reply": "2023-08-19T12:21:33.742438Z"
        },
        "trusted": true,
        "id": "BtB5Yv3pvkNK"
      },
      "execution_count": null,
      "outputs": []
    },
    {
      "cell_type": "markdown",
      "source": [
        "<div style=\"border-radius:12px; padding: 20px; background-color: #e2c9ff; font-size:120%; text-align:left\">\n",
        "    \n",
        "As seen, the model correctly predicted this single desired image."
      ],
      "metadata": {
        "papermill": {
          "duration": 0.062672,
          "end_time": "2023-08-18T09:01:12.951947",
          "exception": false,
          "start_time": "2023-08-18T09:01:12.889275",
          "status": "completed"
        },
        "tags": [],
        "id": "7ahUFNcDvkNL"
      }
    },
    {
      "cell_type": "markdown",
      "source": [
        "<div style=\"display: flex; align-items: center; justify-content: center; border-radius: 10px; padding: 20px; background-color:  #e2c9ff; font-size: 120%; text-align: center;\">\n",
        "\n",
        "<strong>🎯 If you need more information or want to explore the code, feel free to visit the project repository on <a href=\"https://github.com/FarzadNekouee/Keras-CIFAR10-CNN-Model\">GitHub</a> 🎯</strong>\n",
        "</div>\n"
      ],
      "metadata": {
        "papermill": {
          "duration": 0.063885,
          "end_time": "2023-08-18T09:01:13.07959",
          "exception": false,
          "start_time": "2023-08-18T09:01:13.015705",
          "status": "completed"
        },
        "tags": [],
        "id": "kW43jnqFvkNL"
      }
    },
    {
      "cell_type": "markdown",
      "source": [
        "<h2 align=\"left\"><font color='#8502d1'>Best Regards!</font></h2>"
      ],
      "metadata": {
        "papermill": {
          "duration": 0.065478,
          "end_time": "2023-08-18T09:01:13.208414",
          "exception": false,
          "start_time": "2023-08-18T09:01:13.142936",
          "status": "completed"
        },
        "tags": [],
        "id": "YwuLiouOvkNL"
      }
    },
    {
      "cell_type": "code",
      "source": [
        "import tensorflow as tf\n",
        "from tensorflow.keras import datasets, layers, models\n",
        "import matplotlib.pyplot as plt\n",
        "\n",
        "# Load the CIFAR-10 dataset\n",
        "(train_images, train_labels), (test_images, test_labels) = datasets.cifar10.load_data()\n",
        "\n",
        "# Normalize pixel values to be between 0 and 1\n",
        "train_images, test_images = train_images / 255.0, test_images / 255.0\n",
        "\n",
        "# Define class names for CIFAR-10\n",
        "class_names = ['Airplane', 'Automobile', 'Bird', 'Cat', 'Deer',\n",
        "               'Dog', 'Frog', 'Horse', 'Ship', 'Truck']\n",
        "\n",
        "# Build the CNN model\n",
        "model = models.Sequential([\n",
        "    layers.Conv2D(32, (3, 3), activation='relu', input_shape=(32, 32, 3)),\n",
        "    layers.MaxPooling2D((2, 2)),\n",
        "\n",
        "    layers.Conv2D(64, (3, 3), activation='relu'),\n",
        "    layers.MaxPooling2D((2, 2)),\n",
        "\n",
        "    layers.Conv2D(64, (3, 3), activation='relu'),\n",
        "\n",
        "    layers.Flatten(),\n",
        "    layers.Dense(64, activation='relu'),\n",
        "    layers.Dense(10)  # 10 output classes\n",
        "])\n",
        "\n",
        "# Compile the model\n",
        "model.compile(optimizer='adam',\n",
        "              loss=tf.keras.losses.SparseCategoricalCrossentropy(from_logits=True),\n",
        "              metrics=['accuracy'])\n",
        "\n",
        "# Train the model\n",
        "history = model.fit(train_images, train_labels, epochs=10,\n",
        "                    validation_data=(test_images, test_labels))\n",
        "\n",
        "# Evaluate the model\n",
        "test_loss, test_acc = model.evaluate(test_images, test_labels, verbose=2)\n",
        "print(f\"\\nTest accuracy: {test_acc:.2f}\")\n",
        "\n",
        "# Plot training history\n",
        "plt.plot(history.history['accuracy'], label='Training Accuracy')\n",
        "plt.plot(history.history['val_accuracy'], label='Validation Accuracy')\n",
        "plt.xlabel('Epoch')\n",
        "plt.ylabel('Accuracy')\n",
        "plt.legend()\n",
        "plt.title('Training and Validation Accuracy')\n",
        "plt.show()\n"
      ],
      "metadata": {
        "id": "frQ49NsDxzhk",
        "outputId": "9c328fec-6216-48df-f469-521fa5174c4e",
        "colab": {
          "base_uri": "https://localhost:8080/",
          "height": 906
        }
      },
      "execution_count": null,
      "outputs": [
        {
          "output_type": "stream",
          "name": "stdout",
          "text": [
            "Downloading data from https://www.cs.toronto.edu/~kriz/cifar-10-python.tar.gz\n",
            "\u001b[1m170498071/170498071\u001b[0m \u001b[32m━━━━━━━━━━━━━━━━━━━━\u001b[0m\u001b[37m\u001b[0m \u001b[1m4s\u001b[0m 0us/step\n",
            "Epoch 1/10\n",
            "\u001b[1m1563/1563\u001b[0m \u001b[32m━━━━━━━━━━━━━━━━━━━━\u001b[0m\u001b[37m\u001b[0m \u001b[1m39s\u001b[0m 24ms/step - accuracy: 0.3520 - loss: 1.7472 - val_accuracy: 0.5344 - val_loss: 1.2875\n",
            "Epoch 2/10\n",
            "\u001b[1m1563/1563\u001b[0m \u001b[32m━━━━━━━━━━━━━━━━━━━━\u001b[0m\u001b[37m\u001b[0m \u001b[1m41s\u001b[0m 24ms/step - accuracy: 0.5777 - loss: 1.1905 - val_accuracy: 0.6181 - val_loss: 1.1016\n",
            "Epoch 3/10\n",
            "\u001b[1m1563/1563\u001b[0m \u001b[32m━━━━━━━━━━━━━━━━━━━━\u001b[0m\u001b[37m\u001b[0m \u001b[1m41s\u001b[0m 24ms/step - accuracy: 0.6425 - loss: 1.0103 - val_accuracy: 0.6615 - val_loss: 0.9600\n",
            "Epoch 4/10\n",
            "\u001b[1m1563/1563\u001b[0m \u001b[32m━━━━━━━━━━━━━━━━━━━━\u001b[0m\u001b[37m\u001b[0m \u001b[1m38s\u001b[0m 24ms/step - accuracy: 0.6825 - loss: 0.9000 - val_accuracy: 0.6744 - val_loss: 0.9448\n",
            "Epoch 5/10\n",
            "\u001b[1m1563/1563\u001b[0m \u001b[32m━━━━━━━━━━━━━━━━━━━━\u001b[0m\u001b[37m\u001b[0m \u001b[1m41s\u001b[0m 24ms/step - accuracy: 0.7039 - loss: 0.8383 - val_accuracy: 0.6801 - val_loss: 0.9284\n",
            "Epoch 6/10\n",
            "\u001b[1m1563/1563\u001b[0m \u001b[32m━━━━━━━━━━━━━━━━━━━━\u001b[0m\u001b[37m\u001b[0m \u001b[1m42s\u001b[0m 25ms/step - accuracy: 0.7289 - loss: 0.7731 - val_accuracy: 0.6946 - val_loss: 0.8841\n",
            "Epoch 7/10\n",
            "\u001b[1m1563/1563\u001b[0m \u001b[32m━━━━━━━━━━━━━━━━━━━━\u001b[0m\u001b[37m\u001b[0m \u001b[1m43s\u001b[0m 26ms/step - accuracy: 0.7469 - loss: 0.7217 - val_accuracy: 0.6704 - val_loss: 0.9913\n",
            "Epoch 8/10\n",
            "\u001b[1m1563/1563\u001b[0m \u001b[32m━━━━━━━━━━━━━━━━━━━━\u001b[0m\u001b[37m\u001b[0m \u001b[1m38s\u001b[0m 24ms/step - accuracy: 0.7630 - loss: 0.6754 - val_accuracy: 0.7011 - val_loss: 0.8754\n",
            "Epoch 9/10\n",
            "\u001b[1m1563/1563\u001b[0m \u001b[32m━━━━━━━━━━━━━━━━━━━━\u001b[0m\u001b[37m\u001b[0m \u001b[1m42s\u001b[0m 25ms/step - accuracy: 0.7792 - loss: 0.6287 - val_accuracy: 0.7050 - val_loss: 0.8690\n",
            "Epoch 10/10\n",
            "\u001b[1m1563/1563\u001b[0m \u001b[32m━━━━━━━━━━━━━━━━━━━━\u001b[0m\u001b[37m\u001b[0m \u001b[1m38s\u001b[0m 24ms/step - accuracy: 0.7855 - loss: 0.6083 - val_accuracy: 0.6779 - val_loss: 0.9616\n",
            "313/313 - 2s - 7ms/step - accuracy: 0.6779 - loss: 0.9616\n",
            "\n",
            "Test accuracy: 0.68\n"
          ]
        },
        {
          "output_type": "display_data",
          "data": {
            "text/plain": [
              "<Figure size 640x480 with 1 Axes>"
            ],
            "image/png": "[encoded data removed]"
          },
          "metadata": {}
        }
      ]
    }
  ]
}